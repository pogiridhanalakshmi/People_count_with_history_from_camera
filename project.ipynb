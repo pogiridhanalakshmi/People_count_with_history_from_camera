{
 "cells": [
  {
   "cell_type": "code",
   "execution_count": null,
   "id": "ce9e2d76-ad1a-4464-840c-5a95909ee19c",
   "metadata": {},
   "outputs": [],
   "source": [
    "!pip install opencv-python ultralytics numpy sqlite3"
   ]
  },
  {
   "cell_type": "code",
   "execution_count": null,
   "id": "c28a76bf-9398-4e0b-bc05-e98502004e3f",
   "metadata": {},
   "outputs": [],
   "source": [
    "pip install opencv-python ultralytics numpy"
   ]
  },
  {
   "cell_type": "code",
   "execution_count": null,
   "id": "3534afe1-d392-4c78-bb14-ebbed21b7adf",
   "metadata": {},
   "outputs": [],
   "source": [
    "pip install mysql-connector-python\n"
   ]
  },
  {
   "cell_type": "code",
   "execution_count": null,
   "id": "9aa7e30f-6e1d-41fe-bcff-08a1a663a062",
   "metadata": {},
   "outputs": [],
   "source": [
    "import cv2\n",
    "import sqlite3\n",
    "from datetime import datetime\n",
    "from ultralytics import YOLO\n",
    "\n",
    "# Load YOLOv5 model (you can also use yolov8)\n",
    "model = YOLO('yolov5s.pt')  # download will happen automatically\n",
    "\n",
    "# Connect to SQLite (for MySQL use mysql.connector)\n",
    "conn = sqlite3.connect('people_tracking.db')\n",
    "cursor = conn.cursor()\n",
    "cursor.execute(\"\"\"\n",
    "CREATE TABLE IF NOT EXISTS people_visits (\n",
    "    id INTEGER PRIMARY KEY AUTOINCREMENT,\n",
    "    timestamp TEXT,\n",
    "    count INTEGER\n",
    ")\n",
    "\"\"\")\n",
    "conn.commit()\n",
    "\n",
    "# Choose your video source\n",
    "video_source = 0  # use 0 for webcam or 'http://ip-camera-url' for IP cam\n",
    "cap = cv2.VideoCapture(video_source)\n",
    "\n",
    "while True:\n",
    "    ret, frame = cap.read()\n",
    "    if not ret:\n",
    "        break\n",
    "\n",
    "    results = model(frame, stream=True)\n",
    "    people_count = 0\n",
    "\n",
    "    for r in results:\n",
    "        for box in r.boxes:\n",
    "            cls = int(box.cls[0])\n",
    "            if model.names[cls] == \"person\":\n",
    "                people_count += 1\n",
    "                x1, y1, x2, y2 = map(int, box.xyxy[0])\n",
    "                cv2.rectangle(frame, (x1, y1), (x2, y2), (0, 255, 0), 2)\n",
    "\n",
    "    # Show people count\n",
    "    cv2.putText(frame, f\"People Count: {people_count}\", (10, 30),\n",
    "                cv2.FONT_HERSHEY_SIMPLEX, 1, (0, 255, 255), 2)\n",
    "\n",
    "    # Save to database\n",
    "    timestamp = datetime.now().strftime(\"%Y-%m-%d %H:%M:%S\")\n",
    "    cursor.execute(\"INSERT INTO people_visits (timestamp, count) VALUES (?, ?)\", (timestamp, people_count))\n",
    "    conn.commit()\n",
    "\n",
    "    cv2.imshow(\"People Detection\", frame)\n",
    "    if cv2.waitKey(1) & 0xFF == ord('q'):\n",
    "        break\n",
    "\n",
    "cap.release()\n",
    "conn.close()\n",
    "cv2.destroyAllWindows()\n",
    "\n",
    "       "
   ]
  },
  {
   "cell_type": "code",
   "execution_count": null,
   "id": "9c58cead-b67b-4332-8c48-b5ea62233667",
   "metadata": {},
   "outputs": [],
   "source": []
  },
  {
   "cell_type": "code",
   "execution_count": null,
   "id": "5fdcbe38-0adc-42ef-a3ee-72ef462e4574",
   "metadata": {},
   "outputs": [],
   "source": []
  },
  {
   "cell_type": "code",
   "execution_count": null,
   "id": "312c12e8-8071-4843-b106-1d4c875566d2",
   "metadata": {},
   "outputs": [],
   "source": []
  }
 ],
 "metadata": {
  "kernelspec": {
   "display_name": "Python 3 (ipykernel)",
   "language": "python",
   "name": "python3"
  },
  "language_info": {
   "codemirror_mode": {
    "name": "ipython",
    "version": 3
   },
   "file_extension": ".py",
   "mimetype": "text/x-python",
   "name": "python",
   "nbconvert_exporter": "python",
   "pygments_lexer": "ipython3",
   "version": "3.11.4"
  }
 },
 "nbformat": 4,
 "nbformat_minor": 5
}
